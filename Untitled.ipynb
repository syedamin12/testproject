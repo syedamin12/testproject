{
 "cells": [
  {
   "cell_type": "code",
   "execution_count": 14,
   "metadata": {},
   "outputs": [
    {
     "name": "stdout",
     "output_type": "stream",
     "text": [
      "\n",
      "Please type in the math operation you would like to complete:\n",
      "+ for addition\n",
      "- for subtraction\n",
      "* for multiplication\n",
      "/ for division\n",
      "-\n",
      "Enter your first number: 3\n",
      "Enter your second number: 4\n",
      "3 + 4 = \n",
      "7\n",
      "3 - 4 = \n",
      "-1\n",
      "3 * 4 = \n",
      "12\n",
      "3 / 4 = \n",
      "0.75\n"
     ]
    }
   ],
   "source": [
    "operation = input('''\n",
    "Please type in the math operation you would like to complete:\n",
    "+ for addition\n",
    "- for subtraction\n",
    "* for multiplication\n",
    "/ for division\n",
    "''')\n",
    "\n",
    "number_1 = int(input('Enter your first number: '))\n",
    "number_2 = int(input('Enter your second number: '))\n",
    "\n",
    "print('{} + {} = '.format(number_1, number_2))\n",
    "print(number_1 + number_2)\n",
    "\n",
    "\n",
    "print('{} - {} = '.format(number_1, number_2))\n",
    "print(number_1 - number_2)\n",
    "\n",
    "print('{} * {} = '.format(number_1, number_2))\n",
    "print(number_1 * number_2)\n",
    "\n",
    "print('{} / {} = '.format(number_1, number_2))\n",
    "print(number_1 / number_2)"
   ]
  },
  {
   "cell_type": "code",
   "execution_count": 11,
   "metadata": {},
   "outputs": [
    {
     "name": "stdout",
     "output_type": "stream",
     "text": [
      "\n",
      "Please type in the math operation you would like to complete:\n",
      "+ for addition\n",
      "- for subtraction\n",
      "* for multiplication\n",
      "/ for division\n",
      "+\n",
      "Enter your first number: 3\n",
      "Enter your second number: 4\n",
      "3 + 4 = \n",
      "7\n",
      "3 - 4 = \n",
      "-1\n",
      "3 * 4 = \n",
      "12\n",
      "3 / 4 = \n",
      "0.75\n"
     ]
    },
    {
     "ename": "NameError",
     "evalue": "name 'calculator' is not defined",
     "output_type": "error",
     "traceback": [
      "\u001b[1;31m---------------------------------------------------------------------------\u001b[0m",
      "\u001b[1;31mNameError\u001b[0m                                 Traceback (most recent call last)",
      "\u001b[1;32m<ipython-input-11-b564c82b825a>\u001b[0m in \u001b[0;36m<module>\u001b[1;34m\u001b[0m\n\u001b[0;32m     23\u001b[0m \u001b[1;31m#At this point, if we run our program it doesn’t matter what we input at the first prompt, so let’s add our conditional statements into the program. Because of how we have structured our program, the if statement will be where the addition is performed, there will be 3 else-if or elif statements for each of the other operators, and the else statement will be put in place to handle an error if the person did not input an operator symbol.\u001b[0m\u001b[1;33m\u001b[0m\u001b[1;33m\u001b[0m\u001b[1;33m\u001b[0m\u001b[0m\n\u001b[0;32m     24\u001b[0m \u001b[1;33m\u001b[0m\u001b[0m\n\u001b[1;32m---> 25\u001b[1;33m \u001b[0mcalculator\u001b[0m\u001b[1;33m.\u001b[0m\u001b[0mpy\u001b[0m\u001b[1;33m\u001b[0m\u001b[1;33m\u001b[0m\u001b[0m\n\u001b[0m\u001b[0;32m     26\u001b[0m operation = input('''\n\u001b[0;32m     27\u001b[0m \u001b[0mPlease\u001b[0m \u001b[0mtype\u001b[0m \u001b[1;32min\u001b[0m \u001b[0mthe\u001b[0m \u001b[0mmath\u001b[0m \u001b[0moperation\u001b[0m \u001b[0myou\u001b[0m \u001b[0mwould\u001b[0m \u001b[0mlike\u001b[0m \u001b[0mto\u001b[0m \u001b[0mcomplete\u001b[0m\u001b[1;33m:\u001b[0m\u001b[1;33m\u001b[0m\u001b[1;33m\u001b[0m\u001b[0m\n",
      "\u001b[1;31mNameError\u001b[0m: name 'calculator' is not defined"
     ]
    }
   ],
   "source": [
    "operation = input('''\n",
    "Please type in the math operation you would like to complete:\n",
    "+ for addition\n",
    "- for subtraction\n",
    "* for multiplication\n",
    "/ for division\n",
    "''')\n",
    "\n",
    "number_1 = int(input('Enter your first number: '))\n",
    "number_2 = int(input('Enter your second number: '))\n",
    "\n",
    "print('{} + {} = '.format(number_1, number_2))\n",
    "print(number_1 + number_2)\n",
    "\n",
    "print('{} - {} = '.format(number_1, number_2))\n",
    "print(number_1 - number_2)\n",
    "\n",
    "print('{} * {} = '.format(number_1, number_2))\n",
    "print(number_1 * number_2)\n",
    "\n",
    "print('{} / {} = '.format(number_1, number_2))\n",
    "print(number_1 / number_2)\n",
    "#At this point, if we run our program it doesn’t matter what we input at the first prompt, so let’s add our conditional statements into the program. Because of how we have structured our program, the if statement will be where the addition is performed, there will be 3 else-if or elif statements for each of the other operators, and the else statement will be put in place to handle an error if the person did not input an operator symbol.\n",
    "\n",
    "calculator.py\n",
    "operation = input('''\n",
    "Please type in the math operation you would like to complete:\n",
    "+ for addition\n",
    "- for subtraction\n",
    "* for multiplication\n",
    "/ for division\n",
    "''')\n",
    "\n",
    "number_1 = int(input('Enter your first number: '))\n",
    "number_2 = int(input('Enter your second number: '))\n",
    "\n",
    "if operation == '+':\n",
    "    print('{} + {} = '.format(number_1, number_2))\n",
    "    print(number_1 + number_2)\n",
    "\n",
    "elif operation == '-':\n",
    "    print('{} - {} = '.format(number_1, number_2))\n",
    "    print(number_1 - number_2)\n",
    "\n",
    "elif operation == '*':\n",
    "    print('{} * {} = '.format(number_1, number_2))\n",
    "    print(number_1 * number_2)\n",
    "\n",
    "elif operation == '/':\n",
    "    print('{} / {} = '.format(number_1, number_2))\n",
    "    print(number_1 / number_2)\n",
    "\n",
    "else:\n",
    "    print('You have not typed a valid operator, please run the program again.')"
   ]
  },
  {
   "cell_type": "code",
   "execution_count": 15,
   "metadata": {},
   "outputs": [
    {
     "name": "stdout",
     "output_type": "stream",
     "text": [
      "Welcome to calculator.py\n",
      "your options are:\n",
      " \n",
      "1.Addition\n",
      "2 .Subtraction\n",
      "3 .Multiplication\n",
      "4 .Division\n",
      "5. Quit calculator.py\n",
      "\n",
      "choose your option: 1\n"
     ]
    },
    {
     "ename": "TypeError",
     "evalue": "%d format: a number is required, not str",
     "output_type": "error",
     "traceback": [
      "\u001b[1;31m---------------------------------------------------------------------------\u001b[0m",
      "\u001b[1;31mTypeError\u001b[0m                                 Traceback (most recent call last)",
      "\u001b[1;32m<ipython-input-15-4114ecc51ebe>\u001b[0m in \u001b[0;36m<module>\u001b[1;34m\u001b[0m\n\u001b[0;32m     45\u001b[0m             \u001b[0mloop\u001b[0m \u001b[1;33m=\u001b[0m \u001b[1;36m0\u001b[0m\u001b[1;33m\u001b[0m\u001b[1;33m\u001b[0m\u001b[0m\n\u001b[0;32m     46\u001b[0m         \u001b[1;32melse\u001b[0m\u001b[1;33m:\u001b[0m\u001b[1;33m\u001b[0m\u001b[1;33m\u001b[0m\u001b[0m\n\u001b[1;32m---> 47\u001b[1;33m             \u001b[0mprint\u001b[0m \u001b[1;33m(\u001b[0m\u001b[1;34m\"%d is not valid input. Please enter 1, 2 ,3 ,4 or 5.\"\u001b[0m \u001b[1;33m%\u001b[0m \u001b[0mchoice\u001b[0m\u001b[1;33m)\u001b[0m\u001b[1;33m\u001b[0m\u001b[1;33m\u001b[0m\u001b[0m\n\u001b[0m\u001b[0;32m     48\u001b[0m \u001b[1;33m\u001b[0m\u001b[0m\n\u001b[0;32m     49\u001b[0m     \u001b[1;32mexcept\u001b[0m \u001b[0mValueError\u001b[0m\u001b[1;33m:\u001b[0m\u001b[1;33m\u001b[0m\u001b[1;33m\u001b[0m\u001b[0m\n",
      "\u001b[1;31mTypeError\u001b[0m: %d format: a number is required, not str"
     ]
    }
   ],
   "source": [
    "loop = 1\n",
    "\n",
    "choice = 0\n",
    "\n",
    "while loop == 1:\n",
    "    #print out the options you have\n",
    "    print (\"Welcome to calculator.py\")\n",
    "\n",
    "    print (\"your options are:\")\n",
    "\n",
    "    print (\" \")\n",
    "    print (\"1.Addition\")\n",
    "    print (\"2 .Subtraction\")\n",
    "\n",
    "    print (\"3 .Multiplication\")\n",
    "\n",
    "    print (\"4 .Division\")\n",
    "    print (\"5. Quit calculator.py\")\n",
    "    print(\"\")\n",
    "    \n",
    "\n",
    "    choice = input(\"choose your option: \")\n",
    "    try:\n",
    "        if choice == 1:\n",
    "            add1 = input(\"add this: \")\n",
    "            add2= input(\"to this: \")\n",
    "            print (add1, \"+\", add2, \"=\", add1+ add2)\n",
    "        elif choice == 2:\n",
    "            sub1 = input(\"Subtract this \")\n",
    "            sub2 = input(\"from this\")\n",
    "            print (sub1, \"-\", sub2, \"=\", sub1 - sub2)\n",
    "        elif choice == 3:\n",
    "            mul1 = input(\"Multiply this: \")\n",
    "            mul2 = input(\"with this: \")\n",
    "            print (mul1, \"x\", mul2, \"=\", mul1 * mul2)\n",
    "        elif choice == 4:\n",
    "            div1 = input(\"Divide this: \")\n",
    "            div2 = input(\"by this: \")\n",
    "            if div2 == 0:\n",
    "                print(\"Error! Cannot divide by zero!  You'll destroy the universe! ;)\")\n",
    "            else:\n",
    "\n",
    "                print (div1, \"/\", div2, \"=\", div1 * div2)\n",
    "        elif choice == 5:\n",
    "            loop = 0\n",
    "        else:\n",
    "            print (\"%d is not valid input. Please enter 1, 2 ,3 ,4 or 5.\" % choice)\n",
    "\n",
    "    except ValueError:\n",
    "        print (\"%r is not valid input.  Please enter 1, 2, 3, 4 or 5.\" % choice)\n",
    "    print (\"Thank you for using calculator.py!\")"
   ]
  },
  {
   "cell_type": "code",
   "execution_count": 24,
   "metadata": {},
   "outputs": [
    {
     "name": "stdout",
     "output_type": "stream",
     "text": [
      "Enter first number : 2\n",
      "Enter 2nd number : 4\n",
      "Enter an operator Like +,-,*,/: +\n",
      "6\n"
     ]
    }
   ],
   "source": [
    "try:\n",
    "    num1 = int(input (\"Enter first number : \"))\n",
    "    num2 = int(input(\"Enter 2nd number : \"))\n",
    "    op = input(\"Enter an operator Like +,-,*,/: \")\n",
    "    if op==\"+\":\n",
    "        ans = num1 + num2 \n",
    "        print(ans)\n",
    "    elif op == \"-\":\n",
    "        ans = num1 -num2\n",
    "        print(ans)\n",
    "    elif op == \"-\":\n",
    "        ans = num1 -num2\n",
    "        print(ans)\n",
    "    elif op == \"-\":\n",
    "        ans = num1 -num2\n",
    "        print(ans)\n",
    "    else:\n",
    "        print(\"Operation not Defined \")\n",
    "except ValueError:\n",
    "                print(\"invalid sayntax\")"
   ]
  },
  {
   "cell_type": "code",
   "execution_count": null,
   "metadata": {},
   "outputs": [],
   "source": []
  },
  {
   "cell_type": "code",
   "execution_count": null,
   "metadata": {},
   "outputs": [],
   "source": []
  }
 ],
 "metadata": {
  "kernelspec": {
   "display_name": "Python 3",
   "language": "python",
   "name": "python3"
  }
 },
 "nbformat": 4,
 "nbformat_minor": 2
}
